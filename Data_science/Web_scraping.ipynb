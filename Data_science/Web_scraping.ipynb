{
 "cells": [
  {
   "cell_type": "markdown",
   "source": [
    "# Web scraping"
   ],
   "metadata": {
    "collapsed": false
   }
  },
  {
   "cell_type": "markdown",
   "source": [
    "Web scraping to technika pozyskiwania danych z internetu poprzez automatyczne pobieranie treści ze stron internetowych. Jest to proces, w którym specjalne programy lub skrypty przeglądają różne strony internetowe (kod strony) i wyciągają z nich konkretne informacje, takie jak tekst, obrazy, dane tabelaryczne czy inne elementy.\n",
    "\n",
    "Do czego możemy używać web scraping:\n",
    "- Analizy rynku: Firmy mogą zbierać dane dotyczące cen produktów konkurencji, opinii klientów czy trendów rynkowych.\n",
    "- Badania naukowe: Naukowcy mogą wykorzystywać web scraping do zbierania danych naukowych z różnych źródeł online.\n",
    "- Monitorowania mediów społecznościowych: Marketerzy mogą śledzić aktywność na platformach społecznościowych, analizować trendy i reakcje użytkowników.\n",
    "- Tworzenia spersonalizowanych witryn internetowych: Możliwe jest automatyczne tworzenie stron internetowych na podstawie danych zebranych z innych źródeł.\n",
    "- Generowania raportów i analiz: Firmy i analitycy danych mogą wykorzystywać web scraping do automatycznego tworzenia raportów i analiz na podstawie danych internetowych."
   ],
   "metadata": {
    "collapsed": false
   }
  },
  {
   "cell_type": "markdown",
   "source": [
    "Jakie są najczęstsze źródła danych dla osób pracujących w Data science?\n",
    "- bazy danych,\n",
    "- pliki CSV, JSON, HDF5, PKL\n",
    "- web scraping\n",
    "- API"
   ],
   "metadata": {
    "collapsed": false
   }
  },
  {
   "cell_type": "markdown",
   "id": "79c2cb75",
   "metadata": {},
   "source": [
    "Żeby lepiej zrozumieć na jakiej zasadzie działa web scraping musimy najpierw dowiedzieć się, jakie są podstawowe zasady działania stron internetowych.\n",
    "\n",
    "Za każdym razem kiedy otwieramy stronę internetową nasza przeglądarka robi **request** do serwera który zwraca pewną odpowiedź **response**. Jeżeli wszystko poszło dobrze, to zawartością tej odpowiedzi jest HTML interesującej nas strony. Może on zawierać odwołania do innych rzeczy na stronie (obrazki, dźwięki, pliki JavaScript) o które przeglądarka zrobi osobne requesty. \n",
    "\n",
    "Kiedy korzystamy z przeglądarki internetowej ciężko doprowadzić do nadużyć stron internetowych. Jednak wywołując kod w Pythonie możemy tworzyć nawet tysiące requestów na sekundę co może doprowadzić albo do zablokowania nas, albo nawet do zatkania serwera.\n",
    "\n",
    "Biblioteka z której będziemy korzystać do robienia requestów nazywa się po prostu `requests`\n",
    "[Requests PyPi](https://pypi.org/project/requests/)"
   ]
  },
  {
   "cell_type": "code",
   "execution_count": 2,
   "id": "55736bf3",
   "metadata": {
    "ExecuteTime": {
     "start_time": "2023-09-13T18:46:25.138542Z",
     "end_time": "2023-09-13T18:46:25.202579Z"
    }
   },
   "outputs": [],
   "source": [
    "import requests"
   ]
  },
  {
   "cell_type": "markdown",
   "id": "f9a52e26",
   "metadata": {},
   "source": [
    "### GET request"
   ]
  },
  {
   "cell_type": "markdown",
   "id": "e0c3aed1",
   "metadata": {},
   "source": [
    "Requesty typu `GET` służą do odczytywania danych."
   ]
  },
  {
   "cell_type": "markdown",
   "id": "0c98eedf",
   "metadata": {},
   "source": [
    "### Response"
   ]
  },
  {
   "cell_type": "markdown",
   "id": "e9648e8a",
   "metadata": {},
   "source": [
    "Wynikiem działania requestu jest obiekt typu `Response`."
   ]
  },
  {
   "cell_type": "code",
   "execution_count": 6,
   "id": "1a3d7a50",
   "metadata": {
    "ExecuteTime": {
     "start_time": "2023-09-13T18:55:14.058606Z",
     "end_time": "2023-09-13T18:55:14.299727Z"
    }
   },
   "outputs": [],
   "source": [
    "response = requests.get('https://api.github.com/')"
   ]
  },
  {
   "cell_type": "code",
   "execution_count": 7,
   "id": "c356f560",
   "metadata": {
    "ExecuteTime": {
     "start_time": "2023-09-13T18:55:15.305806Z",
     "end_time": "2023-09-13T18:55:15.332121Z"
    }
   },
   "outputs": [
    {
     "data": {
      "text/plain": "200"
     },
     "execution_count": 7,
     "metadata": {},
     "output_type": "execute_result"
    }
   ],
   "source": [
    "response.status_code"
   ]
  },
  {
   "cell_type": "markdown",
   "id": "e23d0618",
   "metadata": {},
   "source": [
    "Jednym z ważnych atrybutów `Response` jest `status_code` który mówi jaki jest wynik zapytania. Odpowiedź `200 OK` oznacza, że zapytanie było udane i dostaliśmy wynik.\n",
    "\n",
    "Znaczenia innych kodów można sprawadzić tutaj:\n",
    "[Inne kody response](https://en.wikipedia.org/wiki/List_of_HTTP_status_codes)"
   ]
  },
  {
   "cell_type": "markdown",
   "source": [
    "Co w przypadku gdy wykonamy request do błędnego serwera?"
   ],
   "metadata": {
    "collapsed": false
   }
  },
  {
   "cell_type": "code",
   "execution_count": 8,
   "outputs": [
    {
     "data": {
      "text/plain": "404"
     },
     "execution_count": 8,
     "metadata": {},
     "output_type": "execute_result"
    }
   ],
   "source": [
    "response = requests.get('https://api.github.com/invalid')\n",
    "response.status_code"
   ],
   "metadata": {
    "collapsed": false,
    "ExecuteTime": {
     "start_time": "2023-09-13T18:56:28.432930Z",
     "end_time": "2023-09-13T18:56:28.732241Z"
    }
   }
  },
  {
   "cell_type": "markdown",
   "id": "cf8010f4",
   "metadata": {},
   "source": [
    "Aby sprawdzić zawartość odpowiedzi musimy skorzystać z atrybutu `content`"
   ]
  },
  {
   "cell_type": "code",
   "execution_count": 32,
   "id": "0c0d8d69",
   "metadata": {
    "ExecuteTime": {
     "start_time": "2023-09-04T18:58:31.245339Z",
     "end_time": "2023-09-04T18:58:31.399279Z"
    }
   },
   "outputs": [
    {
     "data": {
      "text/plain": "b'{\"current_user_url\":\"https://api.github.com/user\",\"current_user_authorizations_html_url\":\"https://github.com/settings/connections/applications{/client_id}\",\"authorizations_url\":\"https://api.github.com/authorizations\",\"code_search_url\":\"https://api.github.com/search/code?q={query}{&page,per_page,sort,order}\",\"commit_search_url\":\"https://api.github.com/search/commits?q={query}{&page,per_page,sort,order}\",\"emails_url\":\"https://api.github.com/user/emails\",\"emojis_url\":\"https://api.github.com/emojis\",\"events_url\":\"https://api.github.com/events\",\"feeds_url\":\"https://api.github.com/feeds\",\"followers_url\":\"https://api.github.com/user/followers\",\"following_url\":\"https://api.github.com/user/following{/target}\",\"gists_url\":\"https://api.github.com/gists{/gist_id}\",\"hub_url\":\"https://api.github.com/hub\",\"issue_search_url\":\"https://api.github.com/search/issues?q={query}{&page,per_page,sort,order}\",\"issues_url\":\"https://api.github.com/issues\",\"keys_url\":\"https://api.github.com/user/keys\",\"label_search_url\":\"https://api.github.com/search/labels?q={query}&repository_id={repository_id}{&page,per_page}\",\"notifications_url\":\"https://api.github.com/notifications\",\"organization_url\":\"https://api.github.com/orgs/{org}\",\"organization_repositories_url\":\"https://api.github.com/orgs/{org}/repos{?type,page,per_page,sort}\",\"organization_teams_url\":\"https://api.github.com/orgs/{org}/teams\",\"public_gists_url\":\"https://api.github.com/gists/public\",\"rate_limit_url\":\"https://api.github.com/rate_limit\",\"repository_url\":\"https://api.github.com/repos/{owner}/{repo}\",\"repository_search_url\":\"https://api.github.com/search/repositories?q={query}{&page,per_page,sort,order}\",\"current_user_repositories_url\":\"https://api.github.com/user/repos{?type,page,per_page,sort}\",\"starred_url\":\"https://api.github.com/user/starred{/owner}{/repo}\",\"starred_gists_url\":\"https://api.github.com/gists/starred\",\"topic_search_url\":\"https://api.github.com/search/topics?q={query}{&page,per_page}\",\"user_url\":\"https://api.github.com/users/{user}\",\"user_organizations_url\":\"https://api.github.com/user/orgs\",\"user_repositories_url\":\"https://api.github.com/users/{user}/repos{?type,page,per_page,sort}\",\"user_search_url\":\"https://api.github.com/search/users?q={query}{&page,per_page,sort,order}\"}'"
     },
     "execution_count": 32,
     "metadata": {},
     "output_type": "execute_result"
    }
   ],
   "source": [
    "response = requests.get('https://api.github.com')\n",
    "response.content"
   ]
  },
  {
   "cell_type": "markdown",
   "id": "50132ab2",
   "metadata": {},
   "source": [
    "Oprócz `content` możemy również sprawdzić nagłówek odpowiedzi używając `headers`"
   ]
  },
  {
   "cell_type": "code",
   "execution_count": 10,
   "id": "a1b2ccb2",
   "metadata": {
    "ExecuteTime": {
     "start_time": "2023-09-13T18:58:58.523702Z",
     "end_time": "2023-09-13T18:58:58.566598Z"
    }
   },
   "outputs": [
    {
     "data": {
      "text/plain": "{'Server': 'GitHub.com', 'Date': 'Wed, 13 Sep 2023 16:56:28 GMT', 'Content-Type': 'application/json; charset=utf-8', 'X-GitHub-Media-Type': 'github.v3; format=json', 'x-github-api-version-selected': '2022-11-28', 'Access-Control-Expose-Headers': 'ETag, Link, Location, Retry-After, X-GitHub-OTP, X-RateLimit-Limit, X-RateLimit-Remaining, X-RateLimit-Used, X-RateLimit-Resource, X-RateLimit-Reset, X-OAuth-Scopes, X-Accepted-OAuth-Scopes, X-Poll-Interval, X-GitHub-Media-Type, X-GitHub-SSO, X-GitHub-Request-Id, Deprecation, Sunset', 'Access-Control-Allow-Origin': '*', 'Strict-Transport-Security': 'max-age=31536000; includeSubdomains; preload', 'X-Frame-Options': 'deny', 'X-Content-Type-Options': 'nosniff', 'X-XSS-Protection': '0', 'Referrer-Policy': 'origin-when-cross-origin, strict-origin-when-cross-origin', 'Content-Security-Policy': \"default-src 'none'\", 'Vary': 'Accept-Encoding, Accept, X-Requested-With', 'Content-Encoding': 'gzip', 'X-RateLimit-Limit': '60', 'X-RateLimit-Remaining': '48', 'X-RateLimit-Reset': '1694627017', 'X-RateLimit-Resource': 'core', 'X-RateLimit-Used': '12', 'Content-Length': '91', 'X-GitHub-Request-Id': 'A51A:8749:36DF72A:375F134:6501E9BC'}"
     },
     "execution_count": 10,
     "metadata": {},
     "output_type": "execute_result"
    }
   ],
   "source": [
    "response.headers"
   ]
  },
  {
   "cell_type": "markdown",
   "id": "fdd08a40",
   "metadata": {},
   "source": [
    "W nagłówku znajdziemy takie informacje jak np. `Content-Type` który mówi jakiego typu jest odpowiedź:"
   ]
  },
  {
   "cell_type": "code",
   "execution_count": 11,
   "id": "a536d4cb",
   "metadata": {
    "ExecuteTime": {
     "start_time": "2023-09-13T18:59:00.588388Z",
     "end_time": "2023-09-13T18:59:00.599073Z"
    }
   },
   "outputs": [
    {
     "data": {
      "text/plain": "'application/json; charset=utf-8'"
     },
     "execution_count": 11,
     "metadata": {},
     "output_type": "execute_result"
    }
   ],
   "source": [
    "response.headers['Content-Type']"
   ]
  },
  {
   "cell_type": "markdown",
   "id": "32f00a7e",
   "metadata": {},
   "source": [
    "### Tworzenie zapytań do API"
   ]
  },
  {
   "cell_type": "markdown",
   "id": "47871901",
   "metadata": {},
   "source": [
    "Zapytania `GET` możemy odpowiednio parametryzować z użyciem query string."
   ]
  },
  {
   "cell_type": "markdown",
   "id": "dc62c91b",
   "metadata": {},
   "source": [
    "Zapytanie poniżej odpytuje API Githubowe o repozytoria napisane w języku Python.\n",
    "\n",
    "[Dokumentacja Github API](https://docs.github.com/en/rest)"
   ]
  },
  {
   "cell_type": "code",
   "execution_count": 12,
   "id": "d8ec1faf",
   "metadata": {
    "ExecuteTime": {
     "start_time": "2023-09-13T19:00:20.086040Z",
     "end_time": "2023-09-13T19:00:21.276307Z"
    }
   },
   "outputs": [
    {
     "data": {
      "text/plain": "{'id': 33210074,\n 'node_id': 'MDEwOlJlcG9zaXRvcnkzMzIxMDA3NA==',\n 'name': 'secrules-language-evaluation',\n 'full_name': 'SpiderLabs/secrules-language-evaluation',\n 'private': False,\n 'owner': {'login': 'SpiderLabs',\n  'id': 508521,\n  'node_id': 'MDEyOk9yZ2FuaXphdGlvbjUwODUyMQ==',\n  'avatar_url': 'https://avatars.githubusercontent.com/u/508521?v=4',\n  'gravatar_id': '',\n  'url': 'https://api.github.com/users/SpiderLabs',\n  'html_url': 'https://github.com/SpiderLabs',\n  'followers_url': 'https://api.github.com/users/SpiderLabs/followers',\n  'following_url': 'https://api.github.com/users/SpiderLabs/following{/other_user}',\n  'gists_url': 'https://api.github.com/users/SpiderLabs/gists{/gist_id}',\n  'starred_url': 'https://api.github.com/users/SpiderLabs/starred{/owner}{/repo}',\n  'subscriptions_url': 'https://api.github.com/users/SpiderLabs/subscriptions',\n  'organizations_url': 'https://api.github.com/users/SpiderLabs/orgs',\n  'repos_url': 'https://api.github.com/users/SpiderLabs/repos',\n  'events_url': 'https://api.github.com/users/SpiderLabs/events{/privacy}',\n  'received_events_url': 'https://api.github.com/users/SpiderLabs/received_events',\n  'type': 'Organization',\n  'site_admin': False},\n 'html_url': 'https://github.com/SpiderLabs/secrules-language-evaluation',\n 'description': 'Set of Python scripts to perform SecRules language evaluation on a given http request.',\n 'fork': False,\n 'url': 'https://api.github.com/repos/SpiderLabs/secrules-language-evaluation',\n 'forks_url': 'https://api.github.com/repos/SpiderLabs/secrules-language-evaluation/forks',\n 'keys_url': 'https://api.github.com/repos/SpiderLabs/secrules-language-evaluation/keys{/key_id}',\n 'collaborators_url': 'https://api.github.com/repos/SpiderLabs/secrules-language-evaluation/collaborators{/collaborator}',\n 'teams_url': 'https://api.github.com/repos/SpiderLabs/secrules-language-evaluation/teams',\n 'hooks_url': 'https://api.github.com/repos/SpiderLabs/secrules-language-evaluation/hooks',\n 'issue_events_url': 'https://api.github.com/repos/SpiderLabs/secrules-language-evaluation/issues/events{/number}',\n 'events_url': 'https://api.github.com/repos/SpiderLabs/secrules-language-evaluation/events',\n 'assignees_url': 'https://api.github.com/repos/SpiderLabs/secrules-language-evaluation/assignees{/user}',\n 'branches_url': 'https://api.github.com/repos/SpiderLabs/secrules-language-evaluation/branches{/branch}',\n 'tags_url': 'https://api.github.com/repos/SpiderLabs/secrules-language-evaluation/tags',\n 'blobs_url': 'https://api.github.com/repos/SpiderLabs/secrules-language-evaluation/git/blobs{/sha}',\n 'git_tags_url': 'https://api.github.com/repos/SpiderLabs/secrules-language-evaluation/git/tags{/sha}',\n 'git_refs_url': 'https://api.github.com/repos/SpiderLabs/secrules-language-evaluation/git/refs{/sha}',\n 'trees_url': 'https://api.github.com/repos/SpiderLabs/secrules-language-evaluation/git/trees{/sha}',\n 'statuses_url': 'https://api.github.com/repos/SpiderLabs/secrules-language-evaluation/statuses/{sha}',\n 'languages_url': 'https://api.github.com/repos/SpiderLabs/secrules-language-evaluation/languages',\n 'stargazers_url': 'https://api.github.com/repos/SpiderLabs/secrules-language-evaluation/stargazers',\n 'contributors_url': 'https://api.github.com/repos/SpiderLabs/secrules-language-evaluation/contributors',\n 'subscribers_url': 'https://api.github.com/repos/SpiderLabs/secrules-language-evaluation/subscribers',\n 'subscription_url': 'https://api.github.com/repos/SpiderLabs/secrules-language-evaluation/subscription',\n 'commits_url': 'https://api.github.com/repos/SpiderLabs/secrules-language-evaluation/commits{/sha}',\n 'git_commits_url': 'https://api.github.com/repos/SpiderLabs/secrules-language-evaluation/git/commits{/sha}',\n 'comments_url': 'https://api.github.com/repos/SpiderLabs/secrules-language-evaluation/comments{/number}',\n 'issue_comment_url': 'https://api.github.com/repos/SpiderLabs/secrules-language-evaluation/issues/comments{/number}',\n 'contents_url': 'https://api.github.com/repos/SpiderLabs/secrules-language-evaluation/contents/{+path}',\n 'compare_url': 'https://api.github.com/repos/SpiderLabs/secrules-language-evaluation/compare/{base}...{head}',\n 'merges_url': 'https://api.github.com/repos/SpiderLabs/secrules-language-evaluation/merges',\n 'archive_url': 'https://api.github.com/repos/SpiderLabs/secrules-language-evaluation/{archive_format}{/ref}',\n 'downloads_url': 'https://api.github.com/repos/SpiderLabs/secrules-language-evaluation/downloads',\n 'issues_url': 'https://api.github.com/repos/SpiderLabs/secrules-language-evaluation/issues{/number}',\n 'pulls_url': 'https://api.github.com/repos/SpiderLabs/secrules-language-evaluation/pulls{/number}',\n 'milestones_url': 'https://api.github.com/repos/SpiderLabs/secrules-language-evaluation/milestones{/number}',\n 'notifications_url': 'https://api.github.com/repos/SpiderLabs/secrules-language-evaluation/notifications{?since,all,participating}',\n 'labels_url': 'https://api.github.com/repos/SpiderLabs/secrules-language-evaluation/labels{/name}',\n 'releases_url': 'https://api.github.com/repos/SpiderLabs/secrules-language-evaluation/releases{/id}',\n 'deployments_url': 'https://api.github.com/repos/SpiderLabs/secrules-language-evaluation/deployments',\n 'created_at': '2015-03-31T21:09:32Z',\n 'updated_at': '2022-03-30T16:43:32Z',\n 'pushed_at': '2017-10-16T15:00:41Z',\n 'git_url': 'git://github.com/SpiderLabs/secrules-language-evaluation.git',\n 'ssh_url': 'git@github.com:SpiderLabs/secrules-language-evaluation.git',\n 'clone_url': 'https://github.com/SpiderLabs/secrules-language-evaluation.git',\n 'svn_url': 'https://github.com/SpiderLabs/secrules-language-evaluation',\n 'homepage': None,\n 'size': 30,\n 'stargazers_count': 14,\n 'watchers_count': 14,\n 'language': 'Python',\n 'has_issues': True,\n 'has_projects': True,\n 'has_downloads': True,\n 'has_wiki': True,\n 'has_pages': False,\n 'has_discussions': False,\n 'forks_count': 9,\n 'mirror_url': None,\n 'archived': False,\n 'disabled': False,\n 'open_issues_count': 0,\n 'license': None,\n 'allow_forking': True,\n 'is_template': False,\n 'web_commit_signoff_required': False,\n 'topics': [],\n 'visibility': 'public',\n 'forks': 9,\n 'open_issues': 0,\n 'watchers': 14,\n 'default_branch': 'master',\n 'score': 1.0}"
     },
     "execution_count": 12,
     "metadata": {},
     "output_type": "execute_result"
    }
   ],
   "source": [
    "response = requests.get(\n",
    "    'https://api.github.com/search/repositories',\n",
    "    params={'q': 'requests+language:python'},\n",
    ")\n",
    "\n",
    "json_response = response.json()\n",
    "repository = json_response['items'][0]\n",
    "\n",
    "repository"
   ]
  },
  {
   "cell_type": "markdown",
   "id": "52f305f8",
   "metadata": {},
   "source": [
    "### Zapisywanie HTML do pliku:\n",
    "\n",
    "Aby nie nadużywać zasobów strony i nie zostać zablokowanym dobrym pomysłem jest zapisywanie sobie odpowiedzi HTMLowych do pliku i pracowanie na nich offline:"
   ]
  },
  {
   "cell_type": "code",
   "execution_count": 20,
   "id": "df47eb54",
   "metadata": {
    "ExecuteTime": {
     "start_time": "2023-09-13T19:10:33.351215Z",
     "end_time": "2023-09-13T19:10:33.539133Z"
    }
   },
   "outputs": [],
   "source": [
    "res = requests.get('https://api.github.com', timeout=1)"
   ]
  },
  {
   "cell_type": "code",
   "execution_count": 17,
   "id": "460f44b0",
   "metadata": {
    "ExecuteTime": {
     "start_time": "2023-09-13T19:09:25.113407Z",
     "end_time": "2023-09-13T19:09:25.122136Z"
    }
   },
   "outputs": [],
   "source": [
    "def save_html(html_content, file_path):\n",
    "    with open(file_path, 'wb') as f:\n",
    "        f.write(html_content)\n",
    "\n",
    "\n",
    "save_html(res.content, 'my_file')"
   ]
  },
  {
   "cell_type": "code",
   "execution_count": 18,
   "id": "88c2e660",
   "metadata": {
    "ExecuteTime": {
     "start_time": "2023-09-13T19:09:25.496381Z",
     "end_time": "2023-09-13T19:09:25.522081Z"
    }
   },
   "outputs": [
    {
     "data": {
      "text/plain": "'{\"current_user_url\":\"https://api.github.com/user\",\"current_user_authorizations_html_url\":\"https://github.com/settings/connections/applications{/client_id}\",\"authorizations_url\":\"https://api.github.com/authorizations\",\"code_search_url\":\"https://api.github.com/search/code?q={query}{&page,per_page,sort,order}\",\"commit_search_url\":\"https://api.github.com/search/commits?q={query}{&page,per_page,sort,order}\",\"emails_url\":\"https://api.github.com/user/emails\",\"emojis_url\":\"https://api.github.com/emojis\",\"events_url\":\"https://api.github.com/events\",\"feeds_url\":\"https://api.github.com/feeds\",\"followers_url\":\"https://api.github.com/user/followers\",\"following_url\":\"https://api.github.com/user/following{/target}\",\"gists_url\":\"https://api.github.com/gists{/gist_id}\",\"hub_url\":\"https://api.github.com/hub\",\"issue_search_url\":\"https://api.github.com/search/issues?q={query}{&page,per_page,sort,order}\",\"issues_url\":\"https://api.github.com/issues\",\"keys_url\":\"https://api.github.com/user/keys\",\"label_search_url\":\"https://api.github.com/search/labels?q={query}&repository_id={repository_id}{&page,per_page}\",\"notifications_url\":\"https://api.github.com/notifications\",\"organization_url\":\"https://api.github.com/orgs/{org}\",\"organization_repositories_url\":\"https://api.github.com/orgs/{org}/repos{?type,page,per_page,sort}\",\"organization_teams_url\":\"https://api.github.com/orgs/{org}/teams\",\"public_gists_url\":\"https://api.github.com/gists/public\",\"rate_limit_url\":\"https://api.github.com/rate_limit\",\"repository_url\":\"https://api.github.com/repos/{owner}/{repo}\",\"repository_search_url\":\"https://api.github.com/search/repositories?q={query}{&page,per_page,sort,order}\",\"current_user_repositories_url\":\"https://api.github.com/user/repos{?type,page,per_page,sort}\",\"starred_url\":\"https://api.github.com/user/starred{/owner}{/repo}\",\"starred_gists_url\":\"https://api.github.com/gists/starred\",\"topic_search_url\":\"https://api.github.com/search/topics?q={query}{&page,per_page}\",\"user_url\":\"https://api.github.com/users/{user}\",\"user_organizations_url\":\"https://api.github.com/user/orgs\",\"user_repositories_url\":\"https://api.github.com/users/{user}/repos{?type,page,per_page,sort}\",\"user_search_url\":\"https://api.github.com/search/users?q={query}{&page,per_page,sort,order}\"}'"
     },
     "execution_count": 18,
     "metadata": {},
     "output_type": "execute_result"
    }
   ],
   "source": [
    "def open_html(file_path):\n",
    "    with open(file_path, 'r') as f:\n",
    "        return f.read()\n",
    "\n",
    "\n",
    "html = open_html('my_file')\n",
    "html"
   ]
  },
  {
   "cell_type": "markdown",
   "id": "32c64f37",
   "metadata": {},
   "source": [
    "## BeautifulSoup\n",
    "\n",
    "Używając `requests` możemy otrzymać HTML danej strony internetowej. Jednak zwykle otrzymane dane będą bardzo skomplikowane i rozbudowane i odczytywanie danych z nich ręcznie może być bardzo trudne. Aby ułatwić sobie tą pracę możemy skorzystać z pakietu `beautifulsoup4`, który pozwala nam parsować pliki HTML i XML.\n",
    "[Beautifulsoup PyPi](https://pypi.org/project/beautifulsoup4/)"
   ]
  },
  {
   "cell_type": "code",
   "execution_count": 31,
   "id": "77ea3b7e",
   "metadata": {
    "ExecuteTime": {
     "start_time": "2023-09-13T19:43:35.847339Z",
     "end_time": "2023-09-13T19:43:36.102464Z"
    }
   },
   "outputs": [],
   "source": [
    "import requests\n",
    "\n",
    "response = requests.get('https://dataquestio.github.io/web-scraping-pages/simple.html')"
   ]
  },
  {
   "cell_type": "code",
   "execution_count": 32,
   "id": "f4d6950c",
   "metadata": {
    "ExecuteTime": {
     "start_time": "2023-09-13T19:43:59.395159Z",
     "end_time": "2023-09-13T19:43:59.403747Z"
    }
   },
   "outputs": [],
   "source": [
    "from bs4 import BeautifulSoup\n",
    "\n",
    "soup = BeautifulSoup(response.content, 'html.parser')"
   ]
  },
  {
   "cell_type": "code",
   "execution_count": 33,
   "id": "a8678f8f",
   "metadata": {
    "ExecuteTime": {
     "start_time": "2023-09-13T19:44:07.849479Z",
     "end_time": "2023-09-13T19:44:07.864266Z"
    }
   },
   "outputs": [
    {
     "data": {
      "text/plain": "b'<!DOCTYPE html>\\n<html>\\n    <head>\\n        <title>A simple example page</title>\\n    </head>\\n    <body>\\n        <p>Here is some simple content for this page.</p>\\n    </body>\\n</html>'"
     },
     "execution_count": 33,
     "metadata": {},
     "output_type": "execute_result"
    }
   ],
   "source": [
    "response.content"
   ]
  },
  {
   "cell_type": "code",
   "execution_count": 30,
   "id": "d963b7ec",
   "metadata": {
    "scrolled": true,
    "ExecuteTime": {
     "start_time": "2023-09-13T19:20:06.241066Z",
     "end_time": "2023-09-13T19:20:06.250004Z"
    }
   },
   "outputs": [
    {
     "name": "stdout",
     "output_type": "stream",
     "text": [
      "<!DOCTYPE html>\n",
      "<html>\n",
      " <head>\n",
      "  <title>\n",
      "   A simple example page\n",
      "  </title>\n",
      " </head>\n",
      " <body>\n",
      "  <p>\n",
      "   Here is some simple content for this page.\n",
      "  </p>\n",
      " </body>\n",
      "</html>\n",
      "\n"
     ]
    }
   ],
   "source": [
    "print(soup.prettify())"
   ]
  },
  {
   "cell_type": "markdown",
   "id": "c512d55f",
   "metadata": {},
   "source": [
    "Aby nie musieć manualnie szukać rzeczy na stronie `bs4` udostępnia metody pozwalające na szukanie obiektów po tagu HTML, klasie css i id css:"
   ]
  },
  {
   "cell_type": "code",
   "execution_count": 37,
   "id": "5e73926d",
   "metadata": {
    "ExecuteTime": {
     "start_time": "2023-09-13T19:48:46.721528Z",
     "end_time": "2023-09-13T19:48:46.729888Z"
    }
   },
   "outputs": [
    {
     "data": {
      "text/plain": "[<p>Here is some simple content for this page.</p>]"
     },
     "execution_count": 37,
     "metadata": {},
     "output_type": "execute_result"
    }
   ],
   "source": [
    "soup.find_all('p')  # znajdź wszystkie elementy z tagiem <p>"
   ]
  },
  {
   "cell_type": "code",
   "execution_count": 40,
   "id": "1b867bff",
   "metadata": {
    "scrolled": true,
    "ExecuteTime": {
     "start_time": "2023-09-13T19:50:13.902962Z",
     "end_time": "2023-09-13T19:50:13.950496Z"
    }
   },
   "outputs": [
    {
     "data": {
      "text/plain": "'Here is some simple content for this page.'"
     },
     "execution_count": 40,
     "metadata": {},
     "output_type": "execute_result"
    }
   ],
   "source": [
    "soup.find_all('p')[0].get_text()"
   ]
  },
  {
   "cell_type": "code",
   "execution_count": 41,
   "id": "31b93a17",
   "metadata": {
    "ExecuteTime": {
     "start_time": "2023-09-13T20:01:58.623468Z",
     "end_time": "2023-09-13T20:01:58.739990Z"
    }
   },
   "outputs": [
    {
     "name": "stdout",
     "output_type": "stream",
     "text": [
      "<html>\n",
      " <head>\n",
      "  <title>\n",
      "   A simple example page\n",
      "  </title>\n",
      " </head>\n",
      " <body>\n",
      "  <div>\n",
      "   <p class=\"inner-text first-item\" id=\"first\">\n",
      "    First paragraph.\n",
      "   </p>\n",
      "   <p class=\"inner-text\">\n",
      "    Second paragraph.\n",
      "   </p>\n",
      "  </div>\n",
      "  <p class=\"outer-text first-item\" id=\"second\">\n",
      "   <b>\n",
      "    First outer paragraph.\n",
      "   </b>\n",
      "  </p>\n",
      "  <p class=\"outer-text\">\n",
      "   <b>\n",
      "    Second outer paragraph.\n",
      "   </b>\n",
      "  </p>\n",
      " </body>\n",
      "</html>\n",
      "\n"
     ]
    }
   ],
   "source": [
    "response = requests.get('https://dataquestio.github.io/web-scraping-pages/ids_and_classes.html')\n",
    "soup = BeautifulSoup(response.content, 'html.parser')\n",
    "print(soup.prettify())"
   ]
  },
  {
   "cell_type": "markdown",
   "id": "dc5a7770",
   "metadata": {},
   "source": [
    "Znajdowanie obiektów z tagiem `<p>` i id `first`:"
   ]
  },
  {
   "cell_type": "code",
   "execution_count": 44,
   "id": "187c4c63",
   "metadata": {
    "scrolled": true,
    "ExecuteTime": {
     "start_time": "2023-09-13T20:04:21.703000Z",
     "end_time": "2023-09-13T20:04:21.711510Z"
    }
   },
   "outputs": [
    {
     "data": {
      "text/plain": "'\\n                First paragraph.\\n            '"
     },
     "execution_count": 44,
     "metadata": {},
     "output_type": "execute_result"
    }
   ],
   "source": [
    "soup.find_all(name='p', id=\"first\")[0].get_text()"
   ]
  },
  {
   "cell_type": "markdown",
   "id": "11df123a",
   "metadata": {},
   "source": [
    "Znajdowanie obiektów z tagiem `<p>` i klasą `outer-text`:"
   ]
  },
  {
   "cell_type": "code",
   "execution_count": 50,
   "id": "409604e6",
   "metadata": {
    "ExecuteTime": {
     "start_time": "2023-09-13T20:09:00.516324Z",
     "end_time": "2023-09-13T20:09:00.522978Z"
    }
   },
   "outputs": [
    {
     "data": {
      "text/plain": "'\\n\\n                Second outer paragraph.\\n            \\n'"
     },
     "execution_count": 50,
     "metadata": {},
     "output_type": "execute_result"
    }
   ],
   "source": [
    "soup.find_all(name='p', class_='outer-text')[1].get_text()"
   ]
  },
  {
   "cell_type": "markdown",
   "source": [
    "```css\n",
    "p {\n",
    "    color: red\n",
    "}\n",
    "\n",
    ".first-item {\n",
    "    color: blue\n",
    "}\n",
    "\n",
    "#first {\n",
    "    color: green\n",
    "}\n",
    "```"
   ],
   "metadata": {
    "collapsed": false
   }
  },
  {
   "cell_type": "code",
   "execution_count": 72,
   "id": "ee7bd276",
   "metadata": {
    "ExecuteTime": {
     "start_time": "2023-09-13T20:23:06.651793Z",
     "end_time": "2023-09-13T20:23:06.695161Z"
    }
   },
   "outputs": [
    {
     "data": {
      "text/plain": "'\\n\\n                First outer paragraph.\\n            \\n'"
     },
     "execution_count": 72,
     "metadata": {},
     "output_type": "execute_result"
    }
   ],
   "source": [
    "soup.select(\"p.first-item\")[1].get_text()"
   ]
  },
  {
   "cell_type": "markdown",
   "id": "518a86f0",
   "metadata": {},
   "source": [
    "## Ćwiczenie 1\n",
    "\n",
    "### Scraping strony internetowej z pogodą\n",
    "\n",
    "Spróbujemy zescrapować pogodę na następne 7 dni w San Francisco.\n",
    "Skorzystamy ze strony: [Forecast weather gov](https://forecast.weather.gov/MapClick.php?lat=37.7772&lon=-122.4168)\n",
    "\n",
    "Analizując jej źródła zobaczymy, że interesuje nas część otagowana id `seven-day-forecast`. Poszczególne prognozy są oznaczone klasą `tombstone-container`."
   ]
  },
  {
   "cell_type": "code",
   "execution_count": 76,
   "id": "e0910919",
   "metadata": {
    "scrolled": false,
    "ExecuteTime": {
     "start_time": "2023-09-13T20:36:07.536254Z",
     "end_time": "2023-09-13T20:36:07.688874Z"
    }
   },
   "outputs": [
    {
     "name": "stdout",
     "output_type": "stream",
     "text": [
      "<div class=\"tombstone-container\">\n",
      " <p class=\"period-name\">\n",
      "  Tonight\n",
      "  <br/>\n",
      "  <br/>\n",
      " </p>\n",
      " <p>\n",
      "  <img alt=\"Tonight: Increasing clouds, with a low around 57. West southwest wind 10 to 15 mph, with gusts as high as 18 mph. \" class=\"forecast-icon\" src=\"newimages/medium/nbkn.png\" title=\"Tonight: Increasing clouds, with a low around 57. West southwest wind 10 to 15 mph, with gusts as high as 18 mph. \"/>\n",
      " </p>\n",
      " <p class=\"short-desc\">\n",
      "  Increasing\n",
      "  <br/>\n",
      "  Clouds\n",
      " </p>\n",
      " <p class=\"temp temp-low\">\n",
      "  Low: 57 °F\n",
      " </p>\n",
      "</div>\n",
      "\n"
     ]
    }
   ],
   "source": [
    "import requests\n",
    "from bs4 import BeautifulSoup\n",
    "\n",
    "page = requests.get('https://forecast.weather.gov/MapClick.php?lat=37.7772&lon=-122.4168')\n",
    "soup = BeautifulSoup(page.content, 'html.parser')\n",
    "\n",
    "seven_day = soup.find(id=\"seven-day-forecast-container\")\n",
    "forecast_items = seven_day.find_all(class_=\"tombstone-container\")\n",
    "# forecast_items = seven_day.select(\".tombstone-container\")\n",
    "# result = soup.select('#seven-day-forecast-container.tombstone-container')\n",
    "print(forecast_items[1].prettify())"
   ]
  },
  {
   "cell_type": "code",
   "execution_count": 86,
   "id": "4484af2e",
   "metadata": {
    "ExecuteTime": {
     "start_time": "2023-09-13T20:41:35.100028Z",
     "end_time": "2023-09-13T20:41:35.145852Z"
    }
   },
   "outputs": [
    {
     "data": {
      "text/plain": "['Today',\n 'Tonight',\n 'Thursday',\n 'ThursdayNight',\n 'Friday',\n 'FridayNight',\n 'Saturday',\n 'SaturdayNight',\n 'Sunday']"
     },
     "execution_count": 86,
     "metadata": {},
     "output_type": "execute_result"
    }
   ],
   "source": [
    "period_tags = seven_day.select(\".tombstone-container .period-name\")\n",
    "periods = [pt.get_text() for pt in period_tags]\n",
    "periods"
   ]
  },
  {
   "cell_type": "markdown",
   "id": "053011e0",
   "metadata": {},
   "source": [
    "Korzystając z różnych klas możemy wyciągnąć poszczególne informacje:"
   ]
  },
  {
   "cell_type": "code",
   "execution_count": 95,
   "id": "703fe8b5",
   "metadata": {
    "ExecuteTime": {
     "start_time": "2023-09-13T20:51:05.326966Z",
     "end_time": "2023-09-13T20:51:05.333289Z"
    }
   },
   "outputs": [
    {
     "name": "stdout",
     "output_type": "stream",
     "text": [
      "['Sunny', 'IncreasingClouds', 'Sunny', 'IncreasingClouds', 'Mostly Sunny', 'Mostly Cloudy', 'Mostly Sunny', 'Partly Cloudy', 'Mostly Sunny']\n",
      "['High: 72 °F', 'Low: 57 °F', 'High: 70 °F', 'Low: 59 °F', 'High: 70 °F', 'Low: 59 °F', 'High: 69 °F', 'Low: 59 °F', 'High: 69 °F']\n",
      "['Today: Sunny, with a high near 72. Light south southwest wind becoming west southwest 11 to 16 mph in the afternoon. Winds could gust as high as 21 mph. ', 'Tonight: Increasing clouds, with a low around 57. West southwest wind 10 to 15 mph, with gusts as high as 18 mph. ', 'Thursday: Sunny, with a high near 70. West southwest wind 9 to 16 mph, with gusts as high as 20 mph. ', 'Thursday Night: Increasing clouds, with a low around 59. West southwest wind 9 to 16 mph, with gusts as high as 21 mph. ', 'Friday: Mostly sunny, with a high near 70. Southwest wind 6 to 10 mph. ', 'Friday Night: Mostly cloudy, with a low around 59.', 'Saturday: Mostly sunny, with a high near 69.', 'Saturday Night: Partly cloudy, with a low around 59.', 'Sunday: Mostly sunny, with a high near 69.']\n"
     ]
    }
   ],
   "source": [
    "short_desc = [sd.get_text() for sd in seven_day.select(\".tombstone-container .short-desc\")]\n",
    "temps = [t.get_text() for t in seven_day.select(\".tombstone-container .temp\")]\n",
    "desc = [img[\"title\"] for img in seven_day.select(\".tombstone-container img\")]\n",
    "print(short_desc)\n",
    "print(temps)\n",
    "print(desc)"
   ]
  },
  {
   "cell_type": "markdown",
   "id": "5d0ab3dc",
   "metadata": {},
   "source": [
    "Tak zdobyte wyniki możemy wrzucić do pandas i stworzyć z nich DataFrame:"
   ]
  },
  {
   "cell_type": "code",
   "execution_count": 96,
   "id": "1dddfad6",
   "metadata": {
    "ExecuteTime": {
     "start_time": "2023-09-13T20:52:03.355522Z",
     "end_time": "2023-09-13T20:52:03.824952Z"
    }
   },
   "outputs": [
    {
     "data": {
      "text/plain": "          period        short_desc        temps  \\\n0          Today             Sunny  High: 72 °F   \n1        Tonight  IncreasingClouds   Low: 57 °F   \n2       Thursday             Sunny  High: 70 °F   \n3  ThursdayNight  IncreasingClouds   Low: 59 °F   \n4         Friday      Mostly Sunny  High: 70 °F   \n5    FridayNight     Mostly Cloudy   Low: 59 °F   \n6       Saturday      Mostly Sunny  High: 69 °F   \n7  SaturdayNight     Partly Cloudy   Low: 59 °F   \n8         Sunday      Mostly Sunny  High: 69 °F   \n\n                                                desc  \n0  Today: Sunny, with a high near 72. Light south...  \n1  Tonight: Increasing clouds, with a low around ...  \n2  Thursday: Sunny, with a high near 70. West sou...  \n3  Thursday Night: Increasing clouds, with a low ...  \n4  Friday: Mostly sunny, with a high near 70. Sou...  \n5  Friday Night: Mostly cloudy, with a low around...  \n6       Saturday: Mostly sunny, with a high near 69.  \n7  Saturday Night: Partly cloudy, with a low arou...  \n8         Sunday: Mostly sunny, with a high near 69.  ",
      "text/html": "<div>\n<style scoped>\n    .dataframe tbody tr th:only-of-type {\n        vertical-align: middle;\n    }\n\n    .dataframe tbody tr th {\n        vertical-align: top;\n    }\n\n    .dataframe thead th {\n        text-align: right;\n    }\n</style>\n<table border=\"1\" class=\"dataframe\">\n  <thead>\n    <tr style=\"text-align: right;\">\n      <th></th>\n      <th>period</th>\n      <th>short_desc</th>\n      <th>temps</th>\n      <th>desc</th>\n    </tr>\n  </thead>\n  <tbody>\n    <tr>\n      <th>0</th>\n      <td>Today</td>\n      <td>Sunny</td>\n      <td>High: 72 °F</td>\n      <td>Today: Sunny, with a high near 72. Light south...</td>\n    </tr>\n    <tr>\n      <th>1</th>\n      <td>Tonight</td>\n      <td>IncreasingClouds</td>\n      <td>Low: 57 °F</td>\n      <td>Tonight: Increasing clouds, with a low around ...</td>\n    </tr>\n    <tr>\n      <th>2</th>\n      <td>Thursday</td>\n      <td>Sunny</td>\n      <td>High: 70 °F</td>\n      <td>Thursday: Sunny, with a high near 70. West sou...</td>\n    </tr>\n    <tr>\n      <th>3</th>\n      <td>ThursdayNight</td>\n      <td>IncreasingClouds</td>\n      <td>Low: 59 °F</td>\n      <td>Thursday Night: Increasing clouds, with a low ...</td>\n    </tr>\n    <tr>\n      <th>4</th>\n      <td>Friday</td>\n      <td>Mostly Sunny</td>\n      <td>High: 70 °F</td>\n      <td>Friday: Mostly sunny, with a high near 70. Sou...</td>\n    </tr>\n    <tr>\n      <th>5</th>\n      <td>FridayNight</td>\n      <td>Mostly Cloudy</td>\n      <td>Low: 59 °F</td>\n      <td>Friday Night: Mostly cloudy, with a low around...</td>\n    </tr>\n    <tr>\n      <th>6</th>\n      <td>Saturday</td>\n      <td>Mostly Sunny</td>\n      <td>High: 69 °F</td>\n      <td>Saturday: Mostly sunny, with a high near 69.</td>\n    </tr>\n    <tr>\n      <th>7</th>\n      <td>SaturdayNight</td>\n      <td>Partly Cloudy</td>\n      <td>Low: 59 °F</td>\n      <td>Saturday Night: Partly cloudy, with a low arou...</td>\n    </tr>\n    <tr>\n      <th>8</th>\n      <td>Sunday</td>\n      <td>Mostly Sunny</td>\n      <td>High: 69 °F</td>\n      <td>Sunday: Mostly sunny, with a high near 69.</td>\n    </tr>\n  </tbody>\n</table>\n</div>"
     },
     "execution_count": 96,
     "metadata": {},
     "output_type": "execute_result"
    }
   ],
   "source": [
    "import pandas as pd\n",
    "\n",
    "weather = pd.DataFrame({\n",
    "    \"period\": periods,\n",
    "    \"short_desc\": short_desc,\n",
    "    \"temps\": temps,\n",
    "    \"desc\": desc\n",
    "})\n",
    "\n",
    "weather"
   ]
  },
  {
   "cell_type": "markdown",
   "id": "e542adfd",
   "metadata": {},
   "source": [
    "Spróbujemy dostać się do temperatury - skorzystamy tutaj z wyrażeń regularnych:\n",
    "\n",
    "Więcej o wyrażeniach regularnych: [Regex](https://regexone.com/)"
   ]
  },
  {
   "cell_type": "code",
   "execution_count": 104,
   "id": "7adbd34d",
   "metadata": {
    "ExecuteTime": {
     "start_time": "2023-09-13T20:57:53.163778Z",
     "end_time": "2023-09-13T20:57:53.236836Z"
    }
   },
   "outputs": [
    {
     "data": {
      "text/plain": "          period        short_desc        temps  \\\n0          Today             Sunny  High: 72 °F   \n1        Tonight  IncreasingClouds   Low: 57 °F   \n2       Thursday             Sunny  High: 70 °F   \n3  ThursdayNight  IncreasingClouds   Low: 59 °F   \n4         Friday      Mostly Sunny  High: 70 °F   \n5    FridayNight     Mostly Cloudy   Low: 59 °F   \n6       Saturday      Mostly Sunny  High: 69 °F   \n7  SaturdayNight     Partly Cloudy   Low: 59 °F   \n8         Sunday      Mostly Sunny  High: 69 °F   \n\n                                                desc  temp_num  \n0  Today: Sunny, with a high near 72. Light south...        72  \n1  Tonight: Increasing clouds, with a low around ...        57  \n2  Thursday: Sunny, with a high near 70. West sou...        70  \n3  Thursday Night: Increasing clouds, with a low ...        59  \n4  Friday: Mostly sunny, with a high near 70. Sou...        70  \n5  Friday Night: Mostly cloudy, with a low around...        59  \n6       Saturday: Mostly sunny, with a high near 69.        69  \n7  Saturday Night: Partly cloudy, with a low arou...        59  \n8         Sunday: Mostly sunny, with a high near 69.        69  ",
      "text/html": "<div>\n<style scoped>\n    .dataframe tbody tr th:only-of-type {\n        vertical-align: middle;\n    }\n\n    .dataframe tbody tr th {\n        vertical-align: top;\n    }\n\n    .dataframe thead th {\n        text-align: right;\n    }\n</style>\n<table border=\"1\" class=\"dataframe\">\n  <thead>\n    <tr style=\"text-align: right;\">\n      <th></th>\n      <th>period</th>\n      <th>short_desc</th>\n      <th>temps</th>\n      <th>desc</th>\n      <th>temp_num</th>\n    </tr>\n  </thead>\n  <tbody>\n    <tr>\n      <th>0</th>\n      <td>Today</td>\n      <td>Sunny</td>\n      <td>High: 72 °F</td>\n      <td>Today: Sunny, with a high near 72. Light south...</td>\n      <td>72</td>\n    </tr>\n    <tr>\n      <th>1</th>\n      <td>Tonight</td>\n      <td>IncreasingClouds</td>\n      <td>Low: 57 °F</td>\n      <td>Tonight: Increasing clouds, with a low around ...</td>\n      <td>57</td>\n    </tr>\n    <tr>\n      <th>2</th>\n      <td>Thursday</td>\n      <td>Sunny</td>\n      <td>High: 70 °F</td>\n      <td>Thursday: Sunny, with a high near 70. West sou...</td>\n      <td>70</td>\n    </tr>\n    <tr>\n      <th>3</th>\n      <td>ThursdayNight</td>\n      <td>IncreasingClouds</td>\n      <td>Low: 59 °F</td>\n      <td>Thursday Night: Increasing clouds, with a low ...</td>\n      <td>59</td>\n    </tr>\n    <tr>\n      <th>4</th>\n      <td>Friday</td>\n      <td>Mostly Sunny</td>\n      <td>High: 70 °F</td>\n      <td>Friday: Mostly sunny, with a high near 70. Sou...</td>\n      <td>70</td>\n    </tr>\n    <tr>\n      <th>5</th>\n      <td>FridayNight</td>\n      <td>Mostly Cloudy</td>\n      <td>Low: 59 °F</td>\n      <td>Friday Night: Mostly cloudy, with a low around...</td>\n      <td>59</td>\n    </tr>\n    <tr>\n      <th>6</th>\n      <td>Saturday</td>\n      <td>Mostly Sunny</td>\n      <td>High: 69 °F</td>\n      <td>Saturday: Mostly sunny, with a high near 69.</td>\n      <td>69</td>\n    </tr>\n    <tr>\n      <th>7</th>\n      <td>SaturdayNight</td>\n      <td>Partly Cloudy</td>\n      <td>Low: 59 °F</td>\n      <td>Saturday Night: Partly cloudy, with a low arou...</td>\n      <td>59</td>\n    </tr>\n    <tr>\n      <th>8</th>\n      <td>Sunday</td>\n      <td>Mostly Sunny</td>\n      <td>High: 69 °F</td>\n      <td>Sunday: Mostly sunny, with a high near 69.</td>\n      <td>69</td>\n    </tr>\n  </tbody>\n</table>\n</div>"
     },
     "execution_count": 104,
     "metadata": {},
     "output_type": "execute_result"
    }
   ],
   "source": [
    "temp_nums = weather.loc[:, \"temps\"].str.extract(\"(\\d+)\", expand=False)\n",
    "# \\d oznacza, że ta część pasuje do cyfry 0-9, + że powinna być przynajmniej jedna taka cyfra lub więcej\n",
    "weather[\"temp_num\"] = temp_nums.astype('int')\n",
    "weather"
   ]
  },
  {
   "cell_type": "markdown",
   "id": "007a7b93",
   "metadata": {},
   "source": [
    "Aby znaleźć prognozy, tylko dla nocy możemy skorzystać z kolumny `temps` i wyciągnąć wiersze, w których znajduje się słowo \"Low\"."
   ]
  },
  {
   "cell_type": "code",
   "execution_count": 106,
   "id": "d299d5ee",
   "metadata": {
    "ExecuteTime": {
     "start_time": "2023-09-13T20:59:25.345397Z",
     "end_time": "2023-09-13T20:59:25.357603Z"
    }
   },
   "outputs": [
    {
     "data": {
      "text/plain": "          period        short_desc        temps  \\\n0          Today             Sunny  High: 72 °F   \n1        Tonight  IncreasingClouds   Low: 57 °F   \n2       Thursday             Sunny  High: 70 °F   \n3  ThursdayNight  IncreasingClouds   Low: 59 °F   \n4         Friday      Mostly Sunny  High: 70 °F   \n5    FridayNight     Mostly Cloudy   Low: 59 °F   \n6       Saturday      Mostly Sunny  High: 69 °F   \n7  SaturdayNight     Partly Cloudy   Low: 59 °F   \n8         Sunday      Mostly Sunny  High: 69 °F   \n\n                                                desc  temp_num  is_night  \n0  Today: Sunny, with a high near 72. Light south...        72     False  \n1  Tonight: Increasing clouds, with a low around ...        57      True  \n2  Thursday: Sunny, with a high near 70. West sou...        70     False  \n3  Thursday Night: Increasing clouds, with a low ...        59      True  \n4  Friday: Mostly sunny, with a high near 70. Sou...        70     False  \n5  Friday Night: Mostly cloudy, with a low around...        59      True  \n6       Saturday: Mostly sunny, with a high near 69.        69     False  \n7  Saturday Night: Partly cloudy, with a low arou...        59      True  \n8         Sunday: Mostly sunny, with a high near 69.        69     False  ",
      "text/html": "<div>\n<style scoped>\n    .dataframe tbody tr th:only-of-type {\n        vertical-align: middle;\n    }\n\n    .dataframe tbody tr th {\n        vertical-align: top;\n    }\n\n    .dataframe thead th {\n        text-align: right;\n    }\n</style>\n<table border=\"1\" class=\"dataframe\">\n  <thead>\n    <tr style=\"text-align: right;\">\n      <th></th>\n      <th>period</th>\n      <th>short_desc</th>\n      <th>temps</th>\n      <th>desc</th>\n      <th>temp_num</th>\n      <th>is_night</th>\n    </tr>\n  </thead>\n  <tbody>\n    <tr>\n      <th>0</th>\n      <td>Today</td>\n      <td>Sunny</td>\n      <td>High: 72 °F</td>\n      <td>Today: Sunny, with a high near 72. Light south...</td>\n      <td>72</td>\n      <td>False</td>\n    </tr>\n    <tr>\n      <th>1</th>\n      <td>Tonight</td>\n      <td>IncreasingClouds</td>\n      <td>Low: 57 °F</td>\n      <td>Tonight: Increasing clouds, with a low around ...</td>\n      <td>57</td>\n      <td>True</td>\n    </tr>\n    <tr>\n      <th>2</th>\n      <td>Thursday</td>\n      <td>Sunny</td>\n      <td>High: 70 °F</td>\n      <td>Thursday: Sunny, with a high near 70. West sou...</td>\n      <td>70</td>\n      <td>False</td>\n    </tr>\n    <tr>\n      <th>3</th>\n      <td>ThursdayNight</td>\n      <td>IncreasingClouds</td>\n      <td>Low: 59 °F</td>\n      <td>Thursday Night: Increasing clouds, with a low ...</td>\n      <td>59</td>\n      <td>True</td>\n    </tr>\n    <tr>\n      <th>4</th>\n      <td>Friday</td>\n      <td>Mostly Sunny</td>\n      <td>High: 70 °F</td>\n      <td>Friday: Mostly sunny, with a high near 70. Sou...</td>\n      <td>70</td>\n      <td>False</td>\n    </tr>\n    <tr>\n      <th>5</th>\n      <td>FridayNight</td>\n      <td>Mostly Cloudy</td>\n      <td>Low: 59 °F</td>\n      <td>Friday Night: Mostly cloudy, with a low around...</td>\n      <td>59</td>\n      <td>True</td>\n    </tr>\n    <tr>\n      <th>6</th>\n      <td>Saturday</td>\n      <td>Mostly Sunny</td>\n      <td>High: 69 °F</td>\n      <td>Saturday: Mostly sunny, with a high near 69.</td>\n      <td>69</td>\n      <td>False</td>\n    </tr>\n    <tr>\n      <th>7</th>\n      <td>SaturdayNight</td>\n      <td>Partly Cloudy</td>\n      <td>Low: 59 °F</td>\n      <td>Saturday Night: Partly cloudy, with a low arou...</td>\n      <td>59</td>\n      <td>True</td>\n    </tr>\n    <tr>\n      <th>8</th>\n      <td>Sunday</td>\n      <td>Mostly Sunny</td>\n      <td>High: 69 °F</td>\n      <td>Sunday: Mostly sunny, with a high near 69.</td>\n      <td>69</td>\n      <td>False</td>\n    </tr>\n  </tbody>\n</table>\n</div>"
     },
     "execution_count": 106,
     "metadata": {},
     "output_type": "execute_result"
    }
   ],
   "source": [
    "is_night = weather.loc[:, \"temps\"].str.contains(\"Low\")\n",
    "weather[\"is_night\"] = is_night\n",
    "weather"
   ]
  },
  {
   "cell_type": "code",
   "execution_count": 107,
   "id": "706cd40e",
   "metadata": {
    "ExecuteTime": {
     "start_time": "2023-09-13T20:59:52.721130Z",
     "end_time": "2023-09-13T20:59:52.777456Z"
    }
   },
   "outputs": [
    {
     "data": {
      "text/plain": "          period        short_desc       temps  \\\n1        Tonight  IncreasingClouds  Low: 57 °F   \n3  ThursdayNight  IncreasingClouds  Low: 59 °F   \n5    FridayNight     Mostly Cloudy  Low: 59 °F   \n7  SaturdayNight     Partly Cloudy  Low: 59 °F   \n\n                                                desc  temp_num  is_night  \n1  Tonight: Increasing clouds, with a low around ...        57      True  \n3  Thursday Night: Increasing clouds, with a low ...        59      True  \n5  Friday Night: Mostly cloudy, with a low around...        59      True  \n7  Saturday Night: Partly cloudy, with a low arou...        59      True  ",
      "text/html": "<div>\n<style scoped>\n    .dataframe tbody tr th:only-of-type {\n        vertical-align: middle;\n    }\n\n    .dataframe tbody tr th {\n        vertical-align: top;\n    }\n\n    .dataframe thead th {\n        text-align: right;\n    }\n</style>\n<table border=\"1\" class=\"dataframe\">\n  <thead>\n    <tr style=\"text-align: right;\">\n      <th></th>\n      <th>period</th>\n      <th>short_desc</th>\n      <th>temps</th>\n      <th>desc</th>\n      <th>temp_num</th>\n      <th>is_night</th>\n    </tr>\n  </thead>\n  <tbody>\n    <tr>\n      <th>1</th>\n      <td>Tonight</td>\n      <td>IncreasingClouds</td>\n      <td>Low: 57 °F</td>\n      <td>Tonight: Increasing clouds, with a low around ...</td>\n      <td>57</td>\n      <td>True</td>\n    </tr>\n    <tr>\n      <th>3</th>\n      <td>ThursdayNight</td>\n      <td>IncreasingClouds</td>\n      <td>Low: 59 °F</td>\n      <td>Thursday Night: Increasing clouds, with a low ...</td>\n      <td>59</td>\n      <td>True</td>\n    </tr>\n    <tr>\n      <th>5</th>\n      <td>FridayNight</td>\n      <td>Mostly Cloudy</td>\n      <td>Low: 59 °F</td>\n      <td>Friday Night: Mostly cloudy, with a low around...</td>\n      <td>59</td>\n      <td>True</td>\n    </tr>\n    <tr>\n      <th>7</th>\n      <td>SaturdayNight</td>\n      <td>Partly Cloudy</td>\n      <td>Low: 59 °F</td>\n      <td>Saturday Night: Partly cloudy, with a low arou...</td>\n      <td>59</td>\n      <td>True</td>\n    </tr>\n  </tbody>\n</table>\n</div>"
     },
     "execution_count": 107,
     "metadata": {},
     "output_type": "execute_result"
    }
   ],
   "source": [
    "weather[is_night]"
   ]
  },
  {
   "cell_type": "code",
   "execution_count": 67,
   "outputs": [
    {
     "data": {
      "text/plain": "      period     short_desc        temps  \\\n0   LaborDay  BecomingSunny  High: 70 °F   \n2    Tuesday          Sunny  High: 70 °F   \n4  Wednesday   Mostly Sunny  High: 71 °F   \n6   Thursday   Mostly Sunny  High: 71 °F   \n8     Friday   Mostly Sunny  High: 71 °F   \n\n                                                desc  temp_num  is_night  \n0  Labor Day: Partly sunny, then gradually becomi...        70     False  \n2  Tuesday: Sunny, with a high near 70. Southwest...        70     False  \n4  Wednesday: Mostly sunny, with a high near 71. ...        71     False  \n6       Thursday: Mostly sunny, with a high near 71.        71     False  \n8         Friday: Mostly sunny, with a high near 71.        71     False  ",
      "text/html": "<div>\n<style scoped>\n    .dataframe tbody tr th:only-of-type {\n        vertical-align: middle;\n    }\n\n    .dataframe tbody tr th {\n        vertical-align: top;\n    }\n\n    .dataframe thead th {\n        text-align: right;\n    }\n</style>\n<table border=\"1\" class=\"dataframe\">\n  <thead>\n    <tr style=\"text-align: right;\">\n      <th></th>\n      <th>period</th>\n      <th>short_desc</th>\n      <th>temps</th>\n      <th>desc</th>\n      <th>temp_num</th>\n      <th>is_night</th>\n    </tr>\n  </thead>\n  <tbody>\n    <tr>\n      <th>0</th>\n      <td>LaborDay</td>\n      <td>BecomingSunny</td>\n      <td>High: 70 °F</td>\n      <td>Labor Day: Partly sunny, then gradually becomi...</td>\n      <td>70</td>\n      <td>False</td>\n    </tr>\n    <tr>\n      <th>2</th>\n      <td>Tuesday</td>\n      <td>Sunny</td>\n      <td>High: 70 °F</td>\n      <td>Tuesday: Sunny, with a high near 70. Southwest...</td>\n      <td>70</td>\n      <td>False</td>\n    </tr>\n    <tr>\n      <th>4</th>\n      <td>Wednesday</td>\n      <td>Mostly Sunny</td>\n      <td>High: 71 °F</td>\n      <td>Wednesday: Mostly sunny, with a high near 71. ...</td>\n      <td>71</td>\n      <td>False</td>\n    </tr>\n    <tr>\n      <th>6</th>\n      <td>Thursday</td>\n      <td>Mostly Sunny</td>\n      <td>High: 71 °F</td>\n      <td>Thursday: Mostly sunny, with a high near 71.</td>\n      <td>71</td>\n      <td>False</td>\n    </tr>\n    <tr>\n      <th>8</th>\n      <td>Friday</td>\n      <td>Mostly Sunny</td>\n      <td>High: 71 °F</td>\n      <td>Friday: Mostly sunny, with a high near 71.</td>\n      <td>71</td>\n      <td>False</td>\n    </tr>\n  </tbody>\n</table>\n</div>"
     },
     "execution_count": 67,
     "metadata": {},
     "output_type": "execute_result"
    }
   ],
   "source": [
    "weather[~is_night]"
   ],
   "metadata": {
    "collapsed": false,
    "ExecuteTime": {
     "start_time": "2023-09-04T20:54:18.590180Z",
     "end_time": "2023-09-04T20:54:18.596647Z"
    }
   }
  },
  {
   "cell_type": "markdown",
   "id": "30737c88",
   "metadata": {},
   "source": [
    "## Ćwiczenie 2\n",
    "\n",
    "Inny przykład web scraping to zeskrapowanie strony prowadzącej ranking obiektowności mediów w Stanach Zjednoczonych. Strona posiadające te dane to [AllSides Media Bias Ratings](https://www.allsides.com/media-bias)"
   ]
  },
  {
   "cell_type": "markdown",
   "id": "4cf1b48c",
   "metadata": {},
   "source": [
    "Spróbuj zescrapować tabelkę z tej strony, Możesz posiłkować się poniższym kodem:"
   ]
  },
  {
   "cell_type": "code",
   "execution_count": 49,
   "id": "707763b8",
   "metadata": {},
   "outputs": [
    {
     "name": "stdout",
     "output_type": "stream",
     "text": [
      "b'<!DOCTYPE html>\\n<html  lang=\"en\" dir=\"ltr\" prefix=\"og: http://ogp.me/ns# content: http://purl.org/rs'\n"
     ]
    }
   ],
   "source": [
    "import requests\n",
    "\n",
    "url = 'https://www.allsides.com/media-bias/media-bias-ratings'\n",
    "r = requests.get(url)\n",
    "\n",
    "print(r.content[:100])"
   ]
  },
  {
   "cell_type": "code",
   "execution_count": 73,
   "id": "161c9532",
   "metadata": {},
   "outputs": [],
   "source": [
    "from bs4 import BeautifulSoup\n",
    "\n",
    "soup = BeautifulSoup(r.content, 'html.parser')"
   ]
  },
  {
   "cell_type": "code",
   "execution_count": 74,
   "id": "e3cf4534",
   "metadata": {},
   "outputs": [],
   "source": [
    "rows = soup.select('tbody tr')"
   ]
  },
  {
   "cell_type": "code",
   "execution_count": 75,
   "id": "90b0f9b9",
   "metadata": {},
   "outputs": [
    {
     "name": "stdout",
     "output_type": "stream",
     "text": [
      "ABC News (Online)\n"
     ]
    }
   ],
   "source": [
    "row = rows[0]\n",
    "\n",
    "name = row.select_one('.views-field').text.strip()\n",
    "\n",
    "print(name)"
   ]
  },
  {
   "cell_type": "code",
   "execution_count": 76,
   "id": "a6761e80",
   "metadata": {},
   "outputs": [
    {
     "name": "stdout",
     "output_type": "stream",
     "text": [
      "https://www.allsides.com/news-source/abc-news-media-bias\n"
     ]
    }
   ],
   "source": [
    "allsides_page = row.select_one('.views-field a')['href']\n",
    "allsides_page = 'https://www.allsides.com' + allsides_page\n",
    "\n",
    "print(allsides_page)"
   ]
  },
  {
   "cell_type": "code",
   "execution_count": 78,
   "id": "7966cb88",
   "metadata": {},
   "outputs": [
    {
     "name": "stdout",
     "output_type": "stream",
     "text": [
      "Agree: 35455, Disagree: 17959, Ratio 1.97\n"
     ]
    }
   ],
   "source": [
    "agree = row.select_one('.agree').text\n",
    "agree = int(agree)\n",
    "\n",
    "disagree = row.select_one('.disagree').text\n",
    "disagree = int(disagree)\n",
    "\n",
    "agree_ratio = agree / disagree\n",
    "\n",
    "print(f\"Agree: {agree}, Disagree: {disagree}, Ratio {agree_ratio:.2f}\")"
   ]
  },
  {
   "cell_type": "code",
   "execution_count": 80,
   "id": "431009d9",
   "metadata": {},
   "outputs": [
    {
     "name": "stdout",
     "output_type": "stream",
     "text": [
      "strongly agrees\n"
     ]
    }
   ],
   "source": [
    "def get_agreeance_text(ratio):\n",
    "    if ratio > 3:\n",
    "        return \"absolutely agrees\"\n",
    "    elif 2 < ratio <= 3:\n",
    "        return \"strongly agrees\"\n",
    "    elif 1.5 < ratio <= 2:\n",
    "        return \"agrees\"\n",
    "    elif 1 < ratio <= 1.5:\n",
    "        return \"somewhat agrees\"\n",
    "    elif ratio == 1:\n",
    "        return \"neutral\"\n",
    "    elif 0.67 < ratio < 1:\n",
    "        return \"somewhat disagrees\"\n",
    "    elif 0.5 < ratio <= 0.67:\n",
    "        return \"disagrees\"\n",
    "    elif 0.33 < ratio <= 0.5:\n",
    "        return \"strongly disagrees\"\n",
    "    elif ratio <= 0.33:\n",
    "        return \"absolutely disagrees\"\n",
    "    else:\n",
    "        return None\n",
    "\n",
    "\n",
    "print(get_agreeance_text(2.5))"
   ]
  },
  {
   "cell_type": "code",
   "execution_count": 81,
   "id": "c2624d04",
   "metadata": {},
   "outputs": [],
   "source": [
    "data = []\n",
    "\n",
    "for row in rows:\n",
    "    d = dict()\n",
    "\n",
    "    d['name'] = row.select_one('.source-title').text.strip()\n",
    "    d['allsides_page'] = 'https://www.allsides.com' + row.select_one('.source-title a')['href']\n",
    "    d['bias'] = row.select_one('.views-field-field-bias-image a')['href'].split('/')[-1]\n",
    "    d['agree'] = int(row.select_one('.agree').text)\n",
    "    d['disagree'] = int(row.select_one('.disagree').text)\n",
    "    d['agree_ratio'] = d['agree'] / d['disagree']\n",
    "    d['agreeance_text'] = get_agreeance_text(d['agree_ratio'])\n",
    "\n",
    "    data.append(d)"
   ]
  },
  {
   "cell_type": "code",
   "execution_count": 84,
   "id": "7248f24b",
   "metadata": {},
   "outputs": [],
   "source": [
    "pages = [\n",
    "    'https://www.allsides.com/media-bias/media-bias-ratings',\n",
    "]"
   ]
  },
  {
   "cell_type": "code",
   "execution_count": 85,
   "id": "27cb2d27",
   "metadata": {},
   "outputs": [],
   "source": [
    "from time import sleep\n",
    "\n",
    "data = []\n",
    "\n",
    "for page in pages:\n",
    "    r = requests.get(page)\n",
    "    soup = BeautifulSoup(r.content, 'html.parser')\n",
    "\n",
    "    rows = soup.select('tbody tr')\n",
    "\n",
    "    for row in rows:\n",
    "        d = dict()\n",
    "\n",
    "        d['name'] = row.select_one('.source-title').text.strip()\n",
    "        d['allsides_page'] = 'https://www.allsides.com' + row.select_one('.source-title a')['href']\n",
    "        d['bias'] = row.select_one('.views-field-field-bias-image a')['href'].split('/')[-1]\n",
    "        d['agree'] = int(row.select_one('.agree').text)\n",
    "        d['disagree'] = int(row.select_one('.disagree').text)\n",
    "        d['agree_ratio'] = d['agree'] / d['disagree']\n",
    "        d['agreeance_text'] = get_agreeance_text(d['agree_ratio'])\n",
    "\n",
    "        data.append(d)\n",
    "\n",
    "    sleep(10)"
   ]
  },
  {
   "cell_type": "code",
   "execution_count": 86,
   "id": "e7500438",
   "metadata": {
    "scrolled": false
   },
   "outputs": [
    {
     "data": {
      "text/plain": [
       "[{'name': 'ABC News (Online)',\n",
       "  'allsides_page': 'https://www.allsides.com/news-source/abc-news-media-bias',\n",
       "  'bias': 'left-center',\n",
       "  'agree': 35455,\n",
       "  'disagree': 17959,\n",
       "  'agree_ratio': 1.9742190545130576,\n",
       "  'agreeance_text': 'agrees'},\n",
       " {'name': 'AlterNet',\n",
       "  'allsides_page': 'https://www.allsides.com/news-source/alternet-media-bias',\n",
       "  'bias': 'left',\n",
       "  'agree': 13706,\n",
       "  'disagree': 2968,\n",
       "  'agree_ratio': 4.617924528301887,\n",
       "  'agreeance_text': 'absolutely agrees'},\n",
       " {'name': 'Associated Press',\n",
       "  'allsides_page': 'https://www.allsides.com/news-source/associated-press-media-bias',\n",
       "  'bias': 'center',\n",
       "  'agree': 26761,\n",
       "  'disagree': 20602,\n",
       "  'agree_ratio': 1.2989515581011553,\n",
       "  'agreeance_text': 'somewhat agrees'},\n",
       " {'name': 'Axios',\n",
       "  'allsides_page': 'https://www.allsides.com/news-source/axios',\n",
       "  'bias': 'center',\n",
       "  'agree': 6092,\n",
       "  'disagree': 6462,\n",
       "  'agree_ratio': 0.9427421850820179,\n",
       "  'agreeance_text': 'somewhat disagrees'},\n",
       " {'name': 'BBC News',\n",
       "  'allsides_page': 'https://www.allsides.com/news-source/bbc-news-media-bias',\n",
       "  'bias': 'center',\n",
       "  'agree': 29300,\n",
       "  'disagree': 25126,\n",
       "  'agree_ratio': 1.1661227413834274,\n",
       "  'agreeance_text': 'somewhat agrees'},\n",
       " {'name': 'Bloomberg',\n",
       "  'allsides_page': 'https://www.allsides.com/news-source/bloomberg-media-bias',\n",
       "  'bias': 'left-center',\n",
       "  'agree': 15940,\n",
       "  'disagree': 21109,\n",
       "  'agree_ratio': 0.7551281443933867,\n",
       "  'agreeance_text': 'somewhat disagrees'},\n",
       " {'name': 'Breitbart News',\n",
       "  'allsides_page': 'https://www.allsides.com/news-source/breitbart',\n",
       "  'bias': 'right',\n",
       "  'agree': 39306,\n",
       "  'disagree': 11241,\n",
       "  'agree_ratio': 3.4966639978649585,\n",
       "  'agreeance_text': 'absolutely agrees'},\n",
       " {'name': 'BuzzFeed News',\n",
       "  'allsides_page': 'https://www.allsides.com/news-source/buzzfeed-media-bias',\n",
       "  'bias': 'left',\n",
       "  'agree': 24598,\n",
       "  'disagree': 9209,\n",
       "  'agree_ratio': 2.6710826365512,\n",
       "  'agreeance_text': 'strongly agrees'},\n",
       " {'name': 'CBS News (Online)',\n",
       "  'allsides_page': 'https://www.allsides.com/news-source/cbs-news-media-bias',\n",
       "  'bias': 'left-center',\n",
       "  'agree': 18937,\n",
       "  'disagree': 12090,\n",
       "  'agree_ratio': 1.5663358147229114,\n",
       "  'agreeance_text': 'agrees'},\n",
       " {'name': 'Christian Science Monitor',\n",
       "  'allsides_page': 'https://www.allsides.com/news-source/christian-science-monitor',\n",
       "  'bias': 'center',\n",
       "  'agree': 15622,\n",
       "  'disagree': 19185,\n",
       "  'agree_ratio': 0.8142819911389106,\n",
       "  'agreeance_text': 'somewhat disagrees'},\n",
       " {'name': 'CNN (Online News)',\n",
       "  'allsides_page': 'https://www.allsides.com/news-source/cnn-media-bias',\n",
       "  'bias': 'left',\n",
       "  'agree': 50943,\n",
       "  'disagree': 47804,\n",
       "  'agree_ratio': 1.0656639611747971,\n",
       "  'agreeance_text': 'somewhat agrees'},\n",
       " {'name': 'CNN (Opinion)',\n",
       "  'allsides_page': 'https://www.allsides.com/news-source/cnn-editorial',\n",
       "  'bias': 'left',\n",
       "  'agree': 33353,\n",
       "  'disagree': 7351,\n",
       "  'agree_ratio': 4.537205822337097,\n",
       "  'agreeance_text': 'absolutely agrees'},\n",
       " {'name': 'Daily Beast',\n",
       "  'allsides_page': 'https://www.allsides.com/news-source/daily-beast-media-bias',\n",
       "  'bias': 'left',\n",
       "  'agree': 19373,\n",
       "  'disagree': 6116,\n",
       "  'agree_ratio': 3.1675931981687375,\n",
       "  'agreeance_text': 'absolutely agrees'},\n",
       " {'name': 'Daily Mail',\n",
       "  'allsides_page': 'https://www.allsides.com/news-source/daily-mail',\n",
       "  'bias': 'right',\n",
       "  'agree': 11827,\n",
       "  'disagree': 6472,\n",
       "  'agree_ratio': 1.8274103831891224,\n",
       "  'agreeance_text': 'agrees'},\n",
       " {'name': 'Democracy Now',\n",
       "  'allsides_page': 'https://www.allsides.com/news-source/democracy-now',\n",
       "  'bias': 'left',\n",
       "  'agree': 13297,\n",
       "  'disagree': 3058,\n",
       "  'agree_ratio': 4.348266841072596,\n",
       "  'agreeance_text': 'absolutely agrees'},\n",
       " {'name': 'Forbes',\n",
       "  'allsides_page': 'https://www.allsides.com/news-source/forbes',\n",
       "  'bias': 'center',\n",
       "  'agree': 13700,\n",
       "  'disagree': 8432,\n",
       "  'agree_ratio': 1.624762808349146,\n",
       "  'agreeance_text': 'agrees'},\n",
       " {'name': 'Fox News (Online News)',\n",
       "  'allsides_page': 'https://www.allsides.com/news-source/fox-news-media-bias',\n",
       "  'bias': 'right',\n",
       "  'agree': 41844,\n",
       "  'disagree': 47667,\n",
       "  'agree_ratio': 0.8778400151047895,\n",
       "  'agreeance_text': 'somewhat disagrees'},\n",
       " {'name': 'Fox News (Opinion)',\n",
       "  'allsides_page': 'https://www.allsides.com/news-source/fox-news-editorial-media-bias',\n",
       "  'bias': 'right',\n",
       "  'agree': 27931,\n",
       "  'disagree': 6539,\n",
       "  'agree_ratio': 4.271448233674874,\n",
       "  'agreeance_text': 'absolutely agrees'},\n",
       " {'name': 'HuffPost',\n",
       "  'allsides_page': 'https://www.allsides.com/news-source/huffpost-media-bias',\n",
       "  'bias': 'left',\n",
       "  'agree': 35462,\n",
       "  'disagree': 22240,\n",
       "  'agree_ratio': 1.5945143884892086,\n",
       "  'agreeance_text': 'agrees'},\n",
       " {'name': 'Mother Jones',\n",
       "  'allsides_page': 'https://www.allsides.com/news-source/mother-jones-bias',\n",
       "  'bias': 'left',\n",
       "  'agree': 15228,\n",
       "  'disagree': 2256,\n",
       "  'agree_ratio': 6.75,\n",
       "  'agreeance_text': 'absolutely agrees'},\n",
       " {'name': 'MSNBC',\n",
       "  'allsides_page': 'https://www.allsides.com/news-source/msnbc',\n",
       "  'bias': 'left',\n",
       "  'agree': 20989,\n",
       "  'disagree': 5437,\n",
       "  'agree_ratio': 3.860400956409785,\n",
       "  'agreeance_text': 'absolutely agrees'},\n",
       " {'name': 'National Review',\n",
       "  'allsides_page': 'https://www.allsides.com/news-source/national-review',\n",
       "  'bias': 'right',\n",
       "  'agree': 18843,\n",
       "  'disagree': 7682,\n",
       "  'agree_ratio': 2.4528768549856808,\n",
       "  'agreeance_text': 'strongly agrees'},\n",
       " {'name': 'NBC News (Online)',\n",
       "  'allsides_page': 'https://www.allsides.com/news-source/nbc-news-media-bias',\n",
       "  'bias': 'left-center',\n",
       "  'agree': 12059,\n",
       "  'disagree': 11833,\n",
       "  'agree_ratio': 1.0190991295529452,\n",
       "  'agreeance_text': 'somewhat agrees'},\n",
       " {'name': 'New York Post (News)',\n",
       "  'allsides_page': 'https://www.allsides.com/news-source/new-york-post',\n",
       "  'bias': 'right-center',\n",
       "  'agree': 14201,\n",
       "  'disagree': 7595,\n",
       "  'agree_ratio': 1.8697827518104015,\n",
       "  'agreeance_text': 'agrees'},\n",
       " {'name': 'New York Times (News)',\n",
       "  'allsides_page': 'https://www.allsides.com/news-source/new-york-times',\n",
       "  'bias': 'left-center',\n",
       "  'agree': 28942,\n",
       "  'disagree': 38784,\n",
       "  'agree_ratio': 0.7462355610561056,\n",
       "  'agreeance_text': 'somewhat disagrees'},\n",
       " {'name': 'New York Times (Opinion)',\n",
       "  'allsides_page': 'https://www.allsides.com/news-source/new-york-times-opinion-media-bias',\n",
       "  'bias': 'left',\n",
       "  'agree': 14327,\n",
       "  'disagree': 3875,\n",
       "  'agree_ratio': 3.697290322580645,\n",
       "  'agreeance_text': 'absolutely agrees'},\n",
       " {'name': 'Newsweek',\n",
       "  'allsides_page': 'https://www.allsides.com/news-source/newsweek',\n",
       "  'bias': 'center',\n",
       "  'agree': 3249,\n",
       "  'disagree': 4829,\n",
       "  'agree_ratio': 0.6728101056119279,\n",
       "  'agreeance_text': 'somewhat disagrees'},\n",
       " {'name': 'NPR (Online News)',\n",
       "  'allsides_page': 'https://www.allsides.com/news-source/npr-media-bias',\n",
       "  'bias': 'center',\n",
       "  'agree': 31634,\n",
       "  'disagree': 30014,\n",
       "  'agree_ratio': 1.0539748117545145,\n",
       "  'agreeance_text': 'somewhat agrees'},\n",
       " {'name': 'NPR (Opinion)',\n",
       "  'allsides_page': 'https://www.allsides.com/news-source/npr-editorial',\n",
       "  'bias': 'left-center',\n",
       "  'agree': 8380,\n",
       "  'disagree': 9454,\n",
       "  'agree_ratio': 0.8863972921514702,\n",
       "  'agreeance_text': 'somewhat disagrees'},\n",
       " {'name': 'Politico',\n",
       "  'allsides_page': 'https://www.allsides.com/news-source/politico-media-bias',\n",
       "  'bias': 'left-center',\n",
       "  'agree': 23363,\n",
       "  'disagree': 30184,\n",
       "  'agree_ratio': 0.7740193479989398,\n",
       "  'agreeance_text': 'somewhat disagrees'},\n",
       " {'name': 'Reason',\n",
       "  'allsides_page': 'https://www.allsides.com/news-source/reason',\n",
       "  'bias': 'right-center',\n",
       "  'agree': 9425,\n",
       "  'disagree': 5730,\n",
       "  'agree_ratio': 1.6448516579406631,\n",
       "  'agreeance_text': 'agrees'},\n",
       " {'name': 'Reuters',\n",
       "  'allsides_page': 'https://www.allsides.com/news-source/reuters',\n",
       "  'bias': 'center',\n",
       "  'agree': 18080,\n",
       "  'disagree': 10113,\n",
       "  'agree_ratio': 1.7877978839117967,\n",
       "  'agreeance_text': 'agrees'},\n",
       " {'name': 'Slate',\n",
       "  'allsides_page': 'https://www.allsides.com/news-source/slate',\n",
       "  'bias': 'left',\n",
       "  'agree': 9507,\n",
       "  'disagree': 3497,\n",
       "  'agree_ratio': 2.718615956534172,\n",
       "  'agreeance_text': 'strongly agrees'},\n",
       " {'name': 'The American Spectator',\n",
       "  'allsides_page': 'https://www.allsides.com/news-source/american-spectator',\n",
       "  'bias': 'right',\n",
       "  'agree': 11934,\n",
       "  'disagree': 4155,\n",
       "  'agree_ratio': 2.872202166064982,\n",
       "  'agreeance_text': 'strongly agrees'},\n",
       " {'name': 'The Atlantic',\n",
       "  'allsides_page': 'https://www.allsides.com/news-source/atlantic',\n",
       "  'bias': 'left-center',\n",
       "  'agree': 14537,\n",
       "  'disagree': 7928,\n",
       "  'agree_ratio': 1.833627648839556,\n",
       "  'agreeance_text': 'agrees'},\n",
       " {'name': 'The Daily Caller',\n",
       "  'allsides_page': 'https://www.allsides.com/news-source/daily-caller',\n",
       "  'bias': 'right',\n",
       "  'agree': 9929,\n",
       "  'disagree': 3970,\n",
       "  'agree_ratio': 2.501007556675063,\n",
       "  'agreeance_text': 'strongly agrees'},\n",
       " {'name': 'The Daily Wire',\n",
       "  'allsides_page': 'https://www.allsides.com/news-source/daily-wire',\n",
       "  'bias': 'right',\n",
       "  'agree': 10576,\n",
       "  'disagree': 3797,\n",
       "  'agree_ratio': 2.785356860679484,\n",
       "  'agreeance_text': 'strongly agrees'},\n",
       " {'name': 'The Economist',\n",
       "  'allsides_page': 'https://www.allsides.com/news-source/economist',\n",
       "  'bias': 'left-center',\n",
       "  'agree': 5863,\n",
       "  'disagree': 9970,\n",
       "  'agree_ratio': 0.5880641925777332,\n",
       "  'agreeance_text': 'disagrees'},\n",
       " {'name': 'The Epoch Times',\n",
       "  'allsides_page': 'https://www.allsides.com/news-source/epoch-times-media-bias',\n",
       "  'bias': 'right-center',\n",
       "  'agree': 11305,\n",
       "  'disagree': 5419,\n",
       "  'agree_ratio': 2.086178261671895,\n",
       "  'agreeance_text': 'strongly agrees'},\n",
       " {'name': 'The Federalist',\n",
       "  'allsides_page': 'https://www.allsides.com/news-source/federalist',\n",
       "  'bias': 'right',\n",
       "  'agree': 9069,\n",
       "  'disagree': 2777,\n",
       "  'agree_ratio': 3.2657544112351458,\n",
       "  'agreeance_text': 'absolutely agrees'},\n",
       " {'name': 'The Guardian',\n",
       "  'allsides_page': 'https://www.allsides.com/news-source/guardian',\n",
       "  'bias': 'left-center',\n",
       "  'agree': 13492,\n",
       "  'disagree': 8188,\n",
       "  'agree_ratio': 1.6477772349780166,\n",
       "  'agreeance_text': 'agrees'},\n",
       " {'name': 'The Hill',\n",
       "  'allsides_page': 'https://www.allsides.com/news-source/hill-media-bias',\n",
       "  'bias': 'center',\n",
       "  'agree': 15979,\n",
       "  'disagree': 21367,\n",
       "  'agree_ratio': 0.7478354471849114,\n",
       "  'agreeance_text': 'somewhat disagrees'},\n",
       " {'name': 'The Intercept',\n",
       "  'allsides_page': 'https://www.allsides.com/news-source/intercept',\n",
       "  'bias': 'left',\n",
       "  'agree': 5480,\n",
       "  'disagree': 1598,\n",
       "  'agree_ratio': 3.4292866082603255,\n",
       "  'agreeance_text': 'absolutely agrees'},\n",
       " {'name': 'The New Yorker',\n",
       "  'allsides_page': 'https://www.allsides.com/news-source/new-yorker',\n",
       "  'bias': 'left',\n",
       "  'agree': 9365,\n",
       "  'disagree': 2256,\n",
       "  'agree_ratio': 4.151152482269503,\n",
       "  'agreeance_text': 'absolutely agrees'},\n",
       " {'name': 'TheBlaze.com',\n",
       "  'allsides_page': 'https://www.allsides.com/news-source/theblaze-bias',\n",
       "  'bias': 'right',\n",
       "  'agree': 99685,\n",
       "  'disagree': 80239,\n",
       "  'agree_ratio': 1.2423509764578322,\n",
       "  'agreeance_text': 'somewhat agrees'},\n",
       " {'name': 'Time Magazine',\n",
       "  'allsides_page': 'https://www.allsides.com/news-source/time-magazine-news-media-bias',\n",
       "  'bias': 'left-center',\n",
       "  'agree': 9350,\n",
       "  'disagree': 7816,\n",
       "  'agree_ratio': 1.1962640736949846,\n",
       "  'agreeance_text': 'somewhat agrees'},\n",
       " {'name': 'USA TODAY',\n",
       "  'allsides_page': 'https://www.allsides.com/news-source/usa-today-media-bias',\n",
       "  'bias': 'left-center',\n",
       "  'agree': 18341,\n",
       "  'disagree': 20641,\n",
       "  'agree_ratio': 0.888571290150671,\n",
       "  'agreeance_text': 'somewhat disagrees'},\n",
       " {'name': 'Vox',\n",
       "  'allsides_page': 'https://www.allsides.com/news-source/vox-news-media-bias',\n",
       "  'bias': 'left',\n",
       "  'agree': 29461,\n",
       "  'disagree': 14977,\n",
       "  'agree_ratio': 1.9670828603859252,\n",
       "  'agreeance_text': 'agrees'},\n",
       " {'name': 'Wall Street Journal (News)',\n",
       "  'allsides_page': 'https://www.allsides.com/news-source/wall-street-journal-media-bias',\n",
       "  'bias': 'center',\n",
       "  'agree': 21907,\n",
       "  'disagree': 24831,\n",
       "  'agree_ratio': 0.8822439692320084,\n",
       "  'agreeance_text': 'somewhat disagrees'},\n",
       " {'name': 'Wall Street Journal (Opinion)',\n",
       "  'allsides_page': 'https://www.allsides.com/news-source/wall-street-journal-opinion',\n",
       "  'bias': 'right-center',\n",
       "  'agree': 11023,\n",
       "  'disagree': 7393,\n",
       "  'agree_ratio': 1.491005004734208,\n",
       "  'agreeance_text': 'somewhat agrees'}]"
      ]
     },
     "execution_count": 86,
     "metadata": {},
     "output_type": "execute_result"
    }
   ],
   "source": [
    "data"
   ]
  },
  {
   "cell_type": "code",
   "execution_count": 88,
   "id": "af68d1fa",
   "metadata": {},
   "outputs": [],
   "source": [
    "df = pd.DataFrame(data)"
   ]
  },
  {
   "cell_type": "code",
   "execution_count": 89,
   "id": "19ca8c1a",
   "metadata": {},
   "outputs": [
    {
     "data": {
      "text/html": [
       "<div>\n",
       "<style scoped>\n",
       "    .dataframe tbody tr th:only-of-type {\n",
       "        vertical-align: middle;\n",
       "    }\n",
       "\n",
       "    .dataframe tbody tr th {\n",
       "        vertical-align: top;\n",
       "    }\n",
       "\n",
       "    .dataframe thead th {\n",
       "        text-align: right;\n",
       "    }\n",
       "</style>\n",
       "<table border=\"1\" class=\"dataframe\">\n",
       "  <thead>\n",
       "    <tr style=\"text-align: right;\">\n",
       "      <th></th>\n",
       "      <th>name</th>\n",
       "      <th>allsides_page</th>\n",
       "      <th>bias</th>\n",
       "      <th>agree</th>\n",
       "      <th>disagree</th>\n",
       "      <th>agree_ratio</th>\n",
       "      <th>agreeance_text</th>\n",
       "      <th>total_votes</th>\n",
       "    </tr>\n",
       "  </thead>\n",
       "  <tbody>\n",
       "    <tr>\n",
       "      <th>44</th>\n",
       "      <td>TheBlaze.com</td>\n",
       "      <td>https://www.allsides.com/news-source/theblaze-...</td>\n",
       "      <td>right</td>\n",
       "      <td>99685</td>\n",
       "      <td>80239</td>\n",
       "      <td>1.242351</td>\n",
       "      <td>somewhat agrees</td>\n",
       "      <td>179924</td>\n",
       "    </tr>\n",
       "    <tr>\n",
       "      <th>10</th>\n",
       "      <td>CNN (Online News)</td>\n",
       "      <td>https://www.allsides.com/news-source/cnn-media...</td>\n",
       "      <td>left</td>\n",
       "      <td>50943</td>\n",
       "      <td>47804</td>\n",
       "      <td>1.065664</td>\n",
       "      <td>somewhat agrees</td>\n",
       "      <td>98747</td>\n",
       "    </tr>\n",
       "    <tr>\n",
       "      <th>16</th>\n",
       "      <td>Fox News (Online News)</td>\n",
       "      <td>https://www.allsides.com/news-source/fox-news-...</td>\n",
       "      <td>right</td>\n",
       "      <td>41844</td>\n",
       "      <td>47667</td>\n",
       "      <td>0.877840</td>\n",
       "      <td>somewhat disagrees</td>\n",
       "      <td>89511</td>\n",
       "    </tr>\n",
       "    <tr>\n",
       "      <th>24</th>\n",
       "      <td>New York Times (News)</td>\n",
       "      <td>https://www.allsides.com/news-source/new-york-...</td>\n",
       "      <td>left-center</td>\n",
       "      <td>28942</td>\n",
       "      <td>38784</td>\n",
       "      <td>0.746236</td>\n",
       "      <td>somewhat disagrees</td>\n",
       "      <td>67726</td>\n",
       "    </tr>\n",
       "    <tr>\n",
       "      <th>27</th>\n",
       "      <td>NPR (Online News)</td>\n",
       "      <td>https://www.allsides.com/news-source/npr-media...</td>\n",
       "      <td>center</td>\n",
       "      <td>31634</td>\n",
       "      <td>30014</td>\n",
       "      <td>1.053975</td>\n",
       "      <td>somewhat agrees</td>\n",
       "      <td>61648</td>\n",
       "    </tr>\n",
       "    <tr>\n",
       "      <th>18</th>\n",
       "      <td>HuffPost</td>\n",
       "      <td>https://www.allsides.com/news-source/huffpost-...</td>\n",
       "      <td>left</td>\n",
       "      <td>35462</td>\n",
       "      <td>22240</td>\n",
       "      <td>1.594514</td>\n",
       "      <td>agrees</td>\n",
       "      <td>57702</td>\n",
       "    </tr>\n",
       "    <tr>\n",
       "      <th>4</th>\n",
       "      <td>BBC News</td>\n",
       "      <td>https://www.allsides.com/news-source/bbc-news-...</td>\n",
       "      <td>center</td>\n",
       "      <td>29300</td>\n",
       "      <td>25126</td>\n",
       "      <td>1.166123</td>\n",
       "      <td>somewhat agrees</td>\n",
       "      <td>54426</td>\n",
       "    </tr>\n",
       "    <tr>\n",
       "      <th>29</th>\n",
       "      <td>Politico</td>\n",
       "      <td>https://www.allsides.com/news-source/politico-...</td>\n",
       "      <td>left-center</td>\n",
       "      <td>23363</td>\n",
       "      <td>30184</td>\n",
       "      <td>0.774019</td>\n",
       "      <td>somewhat disagrees</td>\n",
       "      <td>53547</td>\n",
       "    </tr>\n",
       "    <tr>\n",
       "      <th>0</th>\n",
       "      <td>ABC News (Online)</td>\n",
       "      <td>https://www.allsides.com/news-source/abc-news-...</td>\n",
       "      <td>left-center</td>\n",
       "      <td>35455</td>\n",
       "      <td>17959</td>\n",
       "      <td>1.974219</td>\n",
       "      <td>agrees</td>\n",
       "      <td>53414</td>\n",
       "    </tr>\n",
       "    <tr>\n",
       "      <th>6</th>\n",
       "      <td>Breitbart News</td>\n",
       "      <td>https://www.allsides.com/news-source/breitbart</td>\n",
       "      <td>right</td>\n",
       "      <td>39306</td>\n",
       "      <td>11241</td>\n",
       "      <td>3.496664</td>\n",
       "      <td>absolutely agrees</td>\n",
       "      <td>50547</td>\n",
       "    </tr>\n",
       "  </tbody>\n",
       "</table>\n",
       "</div>"
      ],
      "text/plain": [
       "                      name                                      allsides_page  \\\n",
       "44            TheBlaze.com  https://www.allsides.com/news-source/theblaze-...   \n",
       "10       CNN (Online News)  https://www.allsides.com/news-source/cnn-media...   \n",
       "16  Fox News (Online News)  https://www.allsides.com/news-source/fox-news-...   \n",
       "24   New York Times (News)  https://www.allsides.com/news-source/new-york-...   \n",
       "27       NPR (Online News)  https://www.allsides.com/news-source/npr-media...   \n",
       "18                HuffPost  https://www.allsides.com/news-source/huffpost-...   \n",
       "4                 BBC News  https://www.allsides.com/news-source/bbc-news-...   \n",
       "29                Politico  https://www.allsides.com/news-source/politico-...   \n",
       "0        ABC News (Online)  https://www.allsides.com/news-source/abc-news-...   \n",
       "6           Breitbart News     https://www.allsides.com/news-source/breitbart   \n",
       "\n",
       "           bias  agree  disagree  agree_ratio      agreeance_text  total_votes  \n",
       "44        right  99685     80239     1.242351     somewhat agrees       179924  \n",
       "10         left  50943     47804     1.065664     somewhat agrees        98747  \n",
       "16        right  41844     47667     0.877840  somewhat disagrees        89511  \n",
       "24  left-center  28942     38784     0.746236  somewhat disagrees        67726  \n",
       "27       center  31634     30014     1.053975     somewhat agrees        61648  \n",
       "18         left  35462     22240     1.594514              agrees        57702  \n",
       "4        center  29300     25126     1.166123     somewhat agrees        54426  \n",
       "29  left-center  23363     30184     0.774019  somewhat disagrees        53547  \n",
       "0   left-center  35455     17959     1.974219              agrees        53414  \n",
       "6         right  39306     11241     3.496664   absolutely agrees        50547  "
      ]
     },
     "execution_count": 89,
     "metadata": {},
     "output_type": "execute_result"
    }
   ],
   "source": [
    "df['total_votes'] = df['agree'] + df['disagree']\n",
    "df.sort_values('total_votes', ascending=False, inplace=True)\n",
    "\n",
    "df.head(10)"
   ]
  },
  {
   "cell_type": "markdown",
   "source": [
    "## Ćwiczenie 3"
   ],
   "metadata": {
    "collapsed": false
   }
  },
  {
   "cell_type": "markdown",
   "source": [
    "Zescrapuj dane ze strony [IMDb](https://www.imdb.com/search/title/?title_type=feature&sort=num_votes,desc) z listą najlepszych filmów posortowanych po liczbie głosów. Zrób dataframe ze 100 najlepszymi filmami, ich ratingami, opisem, czasem trwania, reżyserami, głosami oraz aktorami. Zbadaj:\n",
    "- ile filmów ocenionych jest na ponad 8 gwiazdek,\n",
    "- który reżyser ma najwięcej filmów w TOP 100,\n",
    "- jakich jest TOP 5 aktorów, którzy wystąpili najwięcej razy,\n",
    "- ile filmów ma powyżej 1_500_000 głosów\n",
    "- jaki jest średni czas trwania filmów z TOP 100 oraz który trwa najdłużej, a który najkrócej."
   ],
   "metadata": {
    "collapsed": false
   }
  }
 ],
 "metadata": {
  "kernelspec": {
   "display_name": "Python 3 (ipykernel)",
   "language": "python",
   "name": "python3"
  },
  "language_info": {
   "codemirror_mode": {
    "name": "ipython",
    "version": 3
   },
   "file_extension": ".py",
   "mimetype": "text/x-python",
   "name": "python",
   "nbconvert_exporter": "python",
   "pygments_lexer": "ipython3",
   "version": "3.11.3"
  }
 },
 "nbformat": 4,
 "nbformat_minor": 5
}
